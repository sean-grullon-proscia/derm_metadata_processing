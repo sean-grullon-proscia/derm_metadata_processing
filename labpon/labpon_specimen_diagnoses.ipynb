{
 "cells": [
  {
   "cell_type": "code",
   "execution_count": 124,
   "id": "a81fe2db",
   "metadata": {},
   "outputs": [],
   "source": [
    "import pandas as pd\n",
    "import matplotlib.pyplot as plt\n",
    "%matplotlib inline\n"
   ]
  },
  {
   "cell_type": "code",
   "execution_count": 2,
   "id": "818c7bef",
   "metadata": {},
   "outputs": [],
   "source": [
    "import numpy as np"
   ]
  },
  {
   "cell_type": "code",
   "execution_count": 10,
   "id": "019f70b7",
   "metadata": {},
   "outputs": [],
   "source": [
    "df = pd.read_csv('LabPON_flattened_metadata.csv')"
   ]
  },
  {
   "cell_type": "markdown",
   "id": "1bbc7a9d",
   "metadata": {},
   "source": [
    "Ok it looks like we have ~600 multi-specimen cases..."
   ]
  },
  {
   "cell_type": "code",
   "execution_count": 11,
   "id": "9e38ce43",
   "metadata": {},
   "outputs": [
    {
     "data": {
      "text/plain": [
       "I       4812\n",
       "II       606\n",
       "III      146\n",
       "IV        45\n",
       "V         13\n",
       "VI        12\n",
       "VII        3\n",
       "VIII       2\n",
       "IX         2\n",
       "X          1\n",
       "Name: specimen, dtype: int64"
      ]
     },
     "execution_count": 11,
     "metadata": {},
     "output_type": "execute_result"
    }
   ],
   "source": [
    "df['specimen'].value_counts()\n"
   ]
  },
  {
   "cell_type": "code",
   "execution_count": 13,
   "id": "1d4a8c49",
   "metadata": {},
   "outputs": [],
   "source": [
    "cases = df['Casenaam'].unique()"
   ]
  },
  {
   "cell_type": "code",
   "execution_count": 118,
   "id": "8c1b03a4",
   "metadata": {},
   "outputs": [],
   "source": [
    "com = []\n",
    "combos = []\n",
    "n = 0"
   ]
  },
  {
   "cell_type": "code",
   "execution_count": 95,
   "id": "1cb87600",
   "metadata": {},
   "outputs": [
    {
     "data": {
      "text/html": [
       "<div>\n",
       "<style scoped>\n",
       "    .dataframe tbody tr th:only-of-type {\n",
       "        vertical-align: middle;\n",
       "    }\n",
       "\n",
       "    .dataframe tbody tr th {\n",
       "        vertical-align: top;\n",
       "    }\n",
       "\n",
       "    .dataframe thead th {\n",
       "        text-align: right;\n",
       "    }\n",
       "</style>\n",
       "<table border=\"1\" class=\"dataframe\">\n",
       "  <thead>\n",
       "    <tr style=\"text-align: right;\">\n",
       "      <th></th>\n",
       "      <th>Casenaam</th>\n",
       "      <th>Coupe</th>\n",
       "      <th>File nummer</th>\n",
       "      <th>Conclusion (EN)</th>\n",
       "      <th>specimen</th>\n",
       "      <th>wsi</th>\n",
       "      <th>dermai_label</th>\n",
       "    </tr>\n",
       "  </thead>\n",
       "  <tbody>\n",
       "    <tr>\n",
       "      <th>0</th>\n",
       "      <td>2021_002_1_0001</td>\n",
       "      <td>I-1</td>\n",
       "      <td>14284561_HE_1_20210728_111726</td>\n",
       "      <td>Combined Naevus</td>\n",
       "      <td>I</td>\n",
       "      <td>1</td>\n",
       "      <td>LOW_RISK</td>\n",
       "    </tr>\n",
       "    <tr>\n",
       "      <th>1</th>\n",
       "      <td>2021_002_1_0001</td>\n",
       "      <td>I-2</td>\n",
       "      <td>14284562_HE_2_20210728_111449</td>\n",
       "      <td>Combined Naevus</td>\n",
       "      <td>I</td>\n",
       "      <td>2</td>\n",
       "      <td>LOW_RISK</td>\n",
       "    </tr>\n",
       "    <tr>\n",
       "      <th>2</th>\n",
       "      <td>2021_002_1_0001</td>\n",
       "      <td>I-3</td>\n",
       "      <td>14284563_HE_3_20210728_105328</td>\n",
       "      <td>Combined Naevus</td>\n",
       "      <td>I</td>\n",
       "      <td>3</td>\n",
       "      <td>LOW_RISK</td>\n",
       "    </tr>\n",
       "    <tr>\n",
       "      <th>3</th>\n",
       "      <td>2021_002_1_0001</td>\n",
       "      <td>I-4</td>\n",
       "      <td>14284564_HE_4_20210728_105018</td>\n",
       "      <td>Combined Naevus</td>\n",
       "      <td>I</td>\n",
       "      <td>4</td>\n",
       "      <td>LOW_RISK</td>\n",
       "    </tr>\n",
       "    <tr>\n",
       "      <th>4</th>\n",
       "      <td>2021_002_1_0002</td>\n",
       "      <td>I-1</td>\n",
       "      <td>14284565_HE_5_20210728_104831</td>\n",
       "      <td>Nodular (solid) basal cell carcinoma</td>\n",
       "      <td>I</td>\n",
       "      <td>1</td>\n",
       "      <td>BCC</td>\n",
       "    </tr>\n",
       "  </tbody>\n",
       "</table>\n",
       "</div>"
      ],
      "text/plain": [
       "          Casenaam Coupe                    File nummer  \\\n",
       "0  2021_002_1_0001  I-1   14284561_HE_1_20210728_111726   \n",
       "1  2021_002_1_0001  I-2   14284562_HE_2_20210728_111449   \n",
       "2  2021_002_1_0001  I-3   14284563_HE_3_20210728_105328   \n",
       "3  2021_002_1_0001  I-4   14284564_HE_4_20210728_105018   \n",
       "4  2021_002_1_0002  I-1   14284565_HE_5_20210728_104831   \n",
       "\n",
       "                        Conclusion (EN) specimen wsi dermai_label  \n",
       "0                       Combined Naevus        I  1      LOW_RISK  \n",
       "1                       Combined Naevus        I  2      LOW_RISK  \n",
       "2                       Combined Naevus        I  3      LOW_RISK  \n",
       "3                       Combined Naevus        I  4      LOW_RISK  \n",
       "4  Nodular (solid) basal cell carcinoma        I  1           BCC  "
      ]
     },
     "execution_count": 95,
     "metadata": {},
     "output_type": "execute_result"
    }
   ],
   "source": [
    "df.head()"
   ]
  },
  {
   "cell_type": "code",
   "execution_count": 119,
   "id": "93a42c2c",
   "metadata": {},
   "outputs": [],
   "source": [
    "for case in cases:\n",
    "    case_data = df[df['Casenaam'] == case] \n",
    "    if case_data['dermai_label'].unique().shape[0] != 1:\n",
    "        n += len( case_data['dermai_label'])\n",
    "        for label in case_data['dermai_label'].values:\n",
    "            com.append(label)\n",
    "        combo = '_'.join(np.sort(case_data['dermai_label'].unique()))\n",
    "        combos.append(combo)"
   ]
  },
  {
   "cell_type": "code",
   "execution_count": 120,
   "id": "09d2f654",
   "metadata": {},
   "outputs": [
    {
     "data": {
      "text/plain": [
       "510"
      ]
     },
     "execution_count": 120,
     "metadata": {},
     "output_type": "execute_result"
    }
   ],
   "source": [
    "n"
   ]
  },
  {
   "cell_type": "markdown",
   "id": "9699c1cc",
   "metadata": {},
   "source": [
    "Wow... 500 of the 600 multispecimen cases have multiple diagnoses. That's a lot."
   ]
  },
  {
   "cell_type": "code",
   "execution_count": 87,
   "id": "9fe5f288",
   "metadata": {},
   "outputs": [
    {
     "data": {
      "text/plain": [
       "<AxesSubplot:>"
      ]
     },
     "execution_count": 87,
     "metadata": {},
     "output_type": "execute_result"
    },
    {
     "data": {
      "image/png": "[encoded data removed]",
      "text/plain": [
       "<Figure size 576x288 with 1 Axes>"
      ]
     },
     "metadata": {
      "needs_background": "light"
     },
     "output_type": "display_data"
    }
   ],
   "source": [
    "pd.DataFrame({'com':com})['com'].hist(figsize=(8, 4))"
   ]
  },
  {
   "cell_type": "code",
   "execution_count": 125,
   "id": "22d1a8be",
   "metadata": {},
   "outputs": [
    {
     "data": {
      "image/png": "[encoded data removed]",
      "text/plain": [
       "<Figure size 576x288 with 1 Axes>"
      ]
     },
     "metadata": {
      "needs_background": "light"
     },
     "output_type": "display_data"
    }
   ],
   "source": [
    "pd.DataFrame({'combos':combos})['combos'].hist(figsize=(8, 4))\n",
    "plt.xticks(rotation='vertical')\n",
    "\n",
    "plt.show()"
   ]
  },
  {
   "cell_type": "code",
   "execution_count": null,
   "id": "34352d3a",
   "metadata": {},
   "outputs": [],
   "source": []
  }
 ],
 "metadata": {
  "kernelspec": {
   "display_name": "Python 3",
   "language": "python",
   "name": "python3"
  },
  "language_info": {
   "codemirror_mode": {
    "name": "ipython",
    "version": 3
   },
   "file_extension": ".py",
   "mimetype": "text/x-python",
   "name": "python",
   "nbconvert_exporter": "python",
   "pygments_lexer": "ipython3",
   "version": "3.8.8"
  }
 },
 "nbformat": 4,
 "nbformat_minor": 5
}
